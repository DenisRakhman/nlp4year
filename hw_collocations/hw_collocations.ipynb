{
 "cells": [
  {
   "cell_type": "code",
   "execution_count": 1,
   "metadata": {
    "collapsed": true
   },
   "outputs": [],
   "source": [
    "import pandas as pd\n",
    "import nltk\n",
    "from nltk.collocations import *\n",
    "from scipy.stats import spearmanr"
   ]
  },
  {
   "cell_type": "code",
   "execution_count": 3,
   "metadata": {
    "collapsed": true
   },
   "outputs": [],
   "source": [
    "df = pd.read_csv('court-V-N.csv') \n",
    "rows = list(map(list, df.values)) \n",
    "bigram_measures = nltk.collocations.BigramAssocMeasures()\n",
    "finder = BigramCollocationFinder.from_documents(rows)"
   ]
  },
  {
   "cell_type": "code",
   "execution_count": 5,
   "metadata": {
    "collapsed": true
   },
   "outputs": [],
   "source": [
    "# золотой стандарт\n",
    "\n",
    "golden_stand = [(('УДОВЛЕТВОРИТЬ', 'ХОДАТАЙСТВО'), 1),\n",
    "                (('УДОВЛЕТВОРИТЬ', 'ИСК'), 2),\n",
    "                (('СУД', 'УДОВЛЕТВОРИТЬ'), 3), \n",
    "                (('НАЗНАЧИТЬ','НАКАЗАНИЕ'), 4), \n",
    "                (('ПРИЗНАТЬ','СООБЩНИК'), 5), \n",
    "                (('УДОВЛЕТВОРИТЬ','ИСК'), 6), \n",
    "                (('НАЛОЖИТЬ','АРЕСТ'), 7), \n",
    "                (('ОТКЛОНИТЬ','ИСК'), 8), \n",
    "                (('САНКЦИЯ','АРЕСТ'), 9), \n",
    "                (('ПРЕКРАТИТЬ','ДЕЛО'), 10)]"
   ]
  },
  {
   "cell_type": "code",
   "execution_count": 11,
   "metadata": {},
   "outputs": [
    {
     "data": {
      "text/plain": [
       "[('СУД ', 'ПРИЗНАТЬ '),\n",
       " ('ВЫДАТЬ ', 'САНКЦИЯ '),\n",
       " ('СУД ', 'УДОВЛЕТВОРИТЬ '),\n",
       " ('УДОВЛЕТВОРИТЬ ', 'ИСК '),\n",
       " ('УДОВЛЕТВОРИТЬ ', 'ХОДАТАЙСТВО '),\n",
       " ('ПРИНЯТЬ ', 'РЕШЕНИЕ '),\n",
       " ('САНКЦИЯ ', 'АРЕСТ '),\n",
       " ('МЕРА ', 'ПРЕСЕЧЕНИЕ '),\n",
       " ('НАЛОЖИТЬ ', 'АРЕСТ '),\n",
       " ('СУД ', 'ВЫНЕСТИ ')]"
      ]
     },
     "execution_count": 11,
     "metadata": {},
     "output_type": "execute_result"
    }
   ],
   "source": [
    "# likelihood ratio\n",
    "\n",
    "top_lr = finder.nbest(bigram_measures.likelihood_ratio, 10)\n",
    "list_with_scores_lr = list(finder.score_ngrams(bigram_measures.likelihood_ratio))\n",
    "list_no_scores_lr = [(x[0][0].strip(' '), x[0][1].strip(' ')) for x in list_with_scores_lr]\n",
    "top_lr[:10]"
   ]
  },
  {
   "cell_type": "code",
   "execution_count": 12,
   "metadata": {},
   "outputs": [
    {
     "data": {
      "text/plain": [
       "[(' АКЦИОНЕР ', 'РОЗНИЧНЫЙ '),\n",
       " (' АРМИЯ ', 'ВОССТАНОВИТЬСЯ '),\n",
       " (' БОЛЬШИНСТВО ', 'СООТЕЧЕСТВЕННИК '),\n",
       " (' БРИГАДИР ', 'ВИКТОР '),\n",
       " (' ВЕСТИ ', 'ПЕРЕГОВОРЫ '),\n",
       " (' ВЗЯТЬ ', 'РЕАЛИЗАЦИЯ '),\n",
       " (' ВОЗГЛАВИТЬ ', 'СПИСОК '),\n",
       " (' ВРЕМЯ ', 'КНЯЗЕВ '),\n",
       " (' ВСПОМИНАТЬСЯ ', 'ПОПЫТКА '),\n",
       " (' ДОЛЛАР ', 'ПОТРАТИТЬ ')]"
      ]
     },
     "execution_count": 12,
     "metadata": {},
     "output_type": "execute_result"
    }
   ],
   "source": [
    "# PMI\n",
    "\n",
    "top_pmi = finder.nbest(bigram_measures.pmi, 10)\n",
    "list_with_scores_pmi = list(finder.score_ngrams(bigram_measures.pmi))\n",
    "list_no_scores_pmi = [(x[0][0].strip(' '), x[0][1].strip(' ')) for x in list_with_scores_pmi]\n",
    "top_pmi[:10]"
   ]
  },
  {
   "cell_type": "code",
   "execution_count": 14,
   "metadata": {},
   "outputs": [
    {
     "name": "stdout",
     "output_type": "stream",
     "text": [
      "gold [1, 2, 3, 4, 5, 6, 7, 8, 9, 10]\n",
      "lr [4, 3, 2, 1992, 2146, 3, 8, 80, 6, 1648]\n",
      "pmi [1924, 1997, 2449, 1792, 2007, 1997, 1700, 2062, 1750, 2085]\n"
     ]
    }
   ],
   "source": [
    "ranks_golden = [p[1] for p in golden_stand]\n",
    "ranks_lr = [list_no_scores_lr.index(i[0]) for i in golden_stand]\n",
    "ranks_pmi = [list_no_scores_pmi.index(i[0]) for i in golden_stand]\n",
    "print('gold', ranks_golden)\n",
    "print('lr', ranks_lr)\n",
    "print('pmi', ranks_pmi)\n",
    "\n",
    "# здесь видно, что только топ коллокаций likelihood ratio как-то совпадает с золотым стандартом, pmi сильно отличается"
   ]
  },
  {
   "cell_type": "code",
   "execution_count": 16,
   "metadata": {},
   "outputs": [
    {
     "data": {
      "text/plain": [
       "SpearmanrResult(correlation=0.40729671426564323, pvalue=0.24271027029946393)"
      ]
     },
     "execution_count": 16,
     "metadata": {},
     "output_type": "execute_result"
    }
   ],
   "source": [
    "spearmanr(ranks_golden,ranks_lr)\n",
    "\n",
    "# коэффициент 0.4 подтверждает наблюдение выше, между likelihood ratio и золотым стандартом есть корреляция"
   ]
  },
  {
   "cell_type": "code",
   "execution_count": 18,
   "metadata": {},
   "outputs": [
    {
     "data": {
      "text/plain": [
       "SpearmanrResult(correlation=0.018237166310401939, pvalue=0.96011946449672703)"
      ]
     },
     "execution_count": 18,
     "metadata": {},
     "output_type": "execute_result"
    }
   ],
   "source": [
    "spearmanr(ranks_golden,ranks_pmi)\n",
    "\n",
    "# т.к. коэффициент 0.02 > 0 можно сделать вывод, что совсем небольшая корреляция между pmi и золотым стандартом \n",
    "# всё-таки есть (по крайней  мере не отрицательная)"
   ]
  }
 ],
 "metadata": {
  "kernelspec": {
   "display_name": "Python 3",
   "language": "python",
   "name": "python3"
  },
  "language_info": {
   "codemirror_mode": {
    "name": "ipython",
    "version": 3
   },
   "file_extension": ".py",
   "mimetype": "text/x-python",
   "name": "python",
   "nbconvert_exporter": "python",
   "pygments_lexer": "ipython3",
   "version": "3.6.3"
  }
 },
 "nbformat": 4,
 "nbformat_minor": 2
}
