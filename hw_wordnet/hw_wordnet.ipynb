{
 "cells": [
  {
   "cell_type": "code",
   "execution_count": 1,
   "metadata": {
    "collapsed": true
   },
   "outputs": [],
   "source": [
    "from nltk.corpus import wordnet"
   ]
  },
  {
   "cell_type": "code",
   "execution_count": 5,
   "metadata": {},
   "outputs": [
    {
     "name": "stdout",
     "output_type": "stream",
     "text": [
      "Synset('ball.n.01') round object that is hit or thrown or kicked in games\n",
      "Synset('musket_ball.n.01') a solid projectile that is shot by a musket\n",
      "Synset('ball.n.03') an object with a spherical shape\n",
      "Synset('ball.n.04') the people assembled at a lavish formal dance\n",
      "Synset('testis.n.01') one of the two male reproductive glands that produce spermatozoa and secrete androgens\n",
      "Synset('ball.n.06') a spherical object used as a plaything\n",
      "Synset('ball.n.07') United States comedienne best known as the star of a popular television program (1911-1989)\n",
      "Synset('ball.n.08') a compact mass\n",
      "Synset('ball.n.09') a lavish dance requiring formal attire\n",
      "Synset('ball.n.10') a more or less rounded anatomical body or mass\n",
      "Synset('ball.n.11') the game of baseball\n",
      "Synset('ball.n.12') a pitch that is not in the strike zone\n",
      "Synset('ball.v.01') form into a ball by winding or rolling\n"
     ]
    }
   ],
   "source": [
    "# 1. Найти все значения (синсеты) для лексемы ball\n",
    "\n",
    "ball = wordnet.synsets('ball')\n",
    "for ss in ball:\n",
    "    print(ss, ss.definition())"
   ]
  },
  {
   "cell_type": "code",
   "execution_count": 6,
   "metadata": {},
   "outputs": [
    {
     "name": "stdout",
     "output_type": "stream",
     "text": [
      "Synset('ball.n.01') round object that is hit or thrown or kicked in games\n",
      "Synset('ball.n.04') the people assembled at a lavish formal dance\n"
     ]
    }
   ],
   "source": [
    "# 2. Найти определение для лексемы ball в значении (а) \"мяч\" и в значении (b) \"бал\"\n",
    "\n",
    "print(ball[0], ball[0].definition())\n",
    "print(ball[3], ball[3].definition())"
   ]
  },
  {
   "cell_type": "code",
   "execution_count": 10,
   "metadata": {},
   "outputs": [
    {
     "name": "stdout",
     "output_type": "stream",
     "text": [
      "['I', 'got', 'Tom', 'a', 'soccer', 'ball', 'for', 'his', 'birthday']\n",
      "['He', 'had', 'promised', 'to', 'be', 'at', 'the', 'ball', 'and', 'introduce', 'partners', 'to', 'her']\n",
      "form into a ball by winding or rolling\n",
      "one of the two male reproductive glands that produce spermatozoa and secrete androgens\n",
      "a solid projectile that is shot by a musket\n",
      "one of the two male reproductive glands that produce spermatozoa and secrete androgens\n"
     ]
    }
   ],
   "source": [
    "# 3. Найдите два произвольных контекста для слова ball в значениях (а) \"мяч\" и в значении (b) \"бал\"; \n",
    "# продемонстрируйте на них действие алгоритма Леска для разрешения неоднозначности\n",
    "\n",
    "from nltk.wsd import lesk\n",
    "\n",
    "sent1 = 'I got Tom a soccer ball for his birthday.'\n",
    "sent2 = 'He had promised to be at the ball and introduce partners to her.'\n",
    "sent1_tokens = [word.strip('.') for word in sent1.split(' ')]\n",
    "sent2_tokens = [word.strip('.,') for word in sent2.split(' ')]\n",
    "print(sent1_tokens)\n",
    "print(sent2_tokens)\n",
    "\n",
    "print(lesk(sent1_tokens, 'ball').definition())\n",
    "print(lesk(sent2_tokens, 'ball').definition())\n",
    "\n",
    "# Ошибка в обоих случаях, можно попробовать ограничить часть речи существительным \n",
    "\n",
    "print(lesk(sent1_tokens, 'ball', 'n').definition())\n",
    "print(lesk(sent2_tokens, 'ball', 'n').definition())\n",
    "\n",
    "# Здесь алгоритм тоже ошибся в обоих случаях"
   ]
  },
  {
   "cell_type": "code",
   "execution_count": 11,
   "metadata": {},
   "outputs": [
    {
     "name": "stdout",
     "output_type": "stream",
     "text": [
      "Synset('game_equipment.n.01') equipment or apparatus used in playing a game\n",
      "Synset('dance.n.02') a party of people assembled for dancing\n"
     ]
    }
   ],
   "source": [
    "# 4. Найдите гиперонимы для значения (a) и гиперонимы для значения (b)\n",
    "\n",
    "for ss in ball[0].hypernyms():\n",
    "    print(ss, ss.definition())\n",
    "    \n",
    "for ss in ball[3].hypernyms():\n",
    "    print(ss, ss.definition())"
   ]
  },
  {
   "cell_type": "code",
   "execution_count": 15,
   "metadata": {},
   "outputs": [
    {
     "name": "stdout",
     "output_type": "stream",
     "text": [
      "min d(plant: \"мяч\", sport): 8\n",
      "closest lemma definition: (biology) an organism that has characteristics resulting from chromosomal alteration\n",
      "\n",
      "min d(plant: \"мяч\", event): 10\n",
      "closest lemma definition: a phenomenon that follows and is caused by some previous phenomenon\n",
      "\n",
      "min d(plant: \"бал\", sport): 11\n",
      "closest lemma definition: verbal wit or mockery (often at another's expense but not to be taken seriously)\n",
      "\n",
      "min d(plant: \"бал\", event): 9\n",
      "closest lemma definition: something that happens at a given place and time\n",
      "\n",
      "min (d(plant: \"мяч\", sport), d(plant: \"мяч\", event)): 8\n",
      "min (d(plant: \"бал\", sport), d(plant: \"бал\", event)): 9\n"
     ]
    }
   ],
   "source": [
    "# 5. Вычислите наименьшее расстояние между значением ball \"мяч\" \n",
    "# и значениями лексемы sport, а также ball \"бал\" и значениями лексемы event. \n",
    "# Найти min (d(ball: \"мяч\", sport), d(ball: \"мяч\", event)), \n",
    "# а также min (d(ball: \"бал\", спорт), d(ball: \"бал\", event)) \n",
    "\n",
    "sport = wordnet.synsets('sport')\n",
    "event = wordnet.synsets('event')\n",
    "\n",
    "def get_dist_sim(ss1, lexeme):\n",
    "    distances = []\n",
    "    similarities = []\n",
    "    for ss2 in lexeme:\n",
    "        dist = ss1.shortest_path_distance(ss2)\n",
    "        if dist is not None:\n",
    "            distances.append(dist)\n",
    "            sim = ss1.path_similarity(ss2)\n",
    "            similarities.append(sim)\n",
    "    return distances, similarities\n",
    "\n",
    "# min d(plant: \"мяч\", sport)\n",
    "dist1 = get_dist_sim(ball[0], sport)[0]\n",
    "print('min d(plant: \"мяч\", sport): {}'.format(min(dist1)))\n",
    "print('closest lemma definition: {}\\n'.format(sport[dist1.index(min(dist1))].definition()))\n",
    "# Правда, здесь выводится только одно ближайшее значение. Их может быть несколько.\n",
    "\n",
    "# min d(plant: \"мяч\", event)\n",
    "dist2 = get_dist_sim(ball[0], event)[0]\n",
    "print('min d(plant: \"мяч\", event): {}'.format(min(dist2)))\n",
    "print('closest lemma definition: {}\\n'.format(event[dist2.index(min(dist2))].definition()))\n",
    "\n",
    "# min d(plant: \"бал\", sport)\n",
    "dist3 = get_dist_sim(ball[3], sport)[0]\n",
    "print('min d(plant: \"бал\", sport): {}'.format(min(dist3)))\n",
    "print('closest lemma definition: {}\\n'.format(sport[dist3.index(min(dist3))].definition()))\n",
    "\n",
    "# min d(plant: \"бал\", event)\n",
    "dist4 = get_dist_sim(ball[3], event)[0]\n",
    "print('min d(plant: \"бал\", event): {}'.format(min(dist4)))\n",
    "print('closest lemma definition: {}\\n'.format(event[dist4.index(min(dist4))].definition()))\n",
    "\n",
    "print('min (d(plant: \"мяч\", sport), d(plant: \"мяч\", event)): {}'.format(min(min(dist1), min(dist2))))\n",
    "print('min (d(plant: \"бал\", sport), d(plant: \"бал\", event)): {}'.format(min(min(dist3), min(dist4))))\n",
    "\n",
    "# Кратчайшее расстояние от мяча до sport - 8, при этом очень странное значение у леммы sport\n",
    "# Во втором и третьем случаях ((\"мяч\", event), (\"бал\", sport)) расстояние также довольно большое + странные значения лемм \n",
    "# В четвертом случае (\"бал\", event) расстояние чуть меньше, но значение леммы подходит по смыслу"
   ]
  },
  {
   "cell_type": "code",
   "execution_count": 16,
   "metadata": {},
   "outputs": [
    {
     "name": "stdout",
     "output_type": "stream",
     "text": [
      "Synset('football.n.01') any of various games played with a ball (round or oval) in which two teams try to kick or carry or propel the ball into each other's goal\n",
      "Synset('football.n.02') the inflated oblong ball used in playing American football\n",
      "0.7472144018302211\n",
      "0.10526315789473684\n"
     ]
    }
   ],
   "source": [
    "# 6. Вычислить двумя разными способами расстояние: \n",
    "# d(ball: \"мяч\", football) и d(organism, whole) \n",
    "# Есть ли разница в расстояниях? \n",
    "# Какое из расстояний, по Вашему мнению, \n",
    "# в лучшей степени отражает интуитивное представление о семантической близости слов?\n",
    "\n",
    "master = wordnet.synsets(\"football\")\n",
    "for ss in master:\n",
    "    print(ss, ss.definition())\n",
    "\n",
    "#Leacock-Chodorow Similarity\n",
    "print(ball[0].lch_similarity(master[0]))\n",
    "\n",
    "#Wu-Palmer Similarity\n",
    "print(ball[0].wup_similarity(master[0]))"
   ]
  },
  {
   "cell_type": "code",
   "execution_count": 18,
   "metadata": {},
   "outputs": [
    {
     "name": "stdout",
     "output_type": "stream",
     "text": [
      "Synset('organism.n.01') a living thing that has (or can develop) the ability to act or function independently\n",
      "Synset('organism.n.01') []\n",
      "Synset('organism.n.02') a system considered analogous in structure or function to a living body\n",
      "Synset('organism.n.02') ['the social organism']\n",
      "Synset('whole.n.01') all of something including all its component elements or parts\n",
      "Synset('whole.n.01') ['Europe considered as a whole', 'the whole of American literature']\n",
      "Synset('whole.n.02') an assemblage of parts that is regarded as a single entity\n",
      "Synset('whole.n.02') ['how big is that part compared to the whole?', 'the team is a unit']\n"
     ]
    }
   ],
   "source": [
    "organism = wordnet.synsets('organism')\n",
    "for ss in organism:\n",
    "    print(ss, ss.definition())\n",
    "    print(ss, ss.examples())  \n",
    "\n",
    "whole = wordnet.synsets('whole', 'n')\n",
    "for ss in whole:\n",
    "    print(ss, ss.definition())\n",
    "    print(ss, ss.examples())"
   ]
  },
  {
   "cell_type": "code",
   "execution_count": 23,
   "metadata": {},
   "outputs": [
    {
     "name": "stdout",
     "output_type": "stream",
     "text": [
      "a living thing that has (or can develop) the ability to act or function independently\n",
      "all of something including all its component elements or parts\n",
      "lcs 1.072636802264849\n",
      "wps 0.14285714285714285\n",
      "an assemblage of parts that is regarded as a single entity\n",
      "lcs 2.538973871058276\n",
      "wps 0.8\n",
      "a system considered analogous in structure or function to a living body\n",
      "all of something including all its component elements or parts\n",
      "lcs 1.3350010667323402\n",
      "wps 0.3076923076923077\n",
      "an assemblage of parts that is regarded as a single entity\n",
      "lcs 1.55814461804655\n",
      "wps 0.2222222222222222\n"
     ]
    }
   ],
   "source": [
    "for ss1 in organism:\n",
    "    print(ss1.definition())\n",
    "    for ss2 in whole:\n",
    "        print(ss2.definition())\n",
    "\n",
    "        #Leacock-Chodorow Similarity\n",
    "        print('lcs', ss1.lch_similarity(ss2))\n",
    "\n",
    "        #Wu-Palmer Similarity\n",
    "        print('wps', ss1.wup_similarity(ss2))\n",
    "        \n",
    "# Если судить по метрике Leacock-Chodorow Similarity, то \"мяч\" ближе к \"футболу\", чем \"организм\" к \"целому\" в любых значениях \n",
    "# По метрике Wu-Palmer Similarity результат тот же самый \n",
    "# Возможно это связано с тем, что \"мяч\" и \"футбол\" семантически \n",
    "# очень близкие лексемы (мяч необходимый предмет для игры в футбол)"
   ]
  }
 ],
 "metadata": {
  "kernelspec": {
   "display_name": "Python 3",
   "language": "python",
   "name": "python3"
  },
  "language_info": {
   "codemirror_mode": {
    "name": "ipython",
    "version": 3
   },
   "file_extension": ".py",
   "mimetype": "text/x-python",
   "name": "python",
   "nbconvert_exporter": "python",
   "pygments_lexer": "ipython3",
   "version": "3.6.3"
  }
 },
 "nbformat": 4,
 "nbformat_minor": 2
}
